{
 "cells": [
  {
   "cell_type": "code",
   "execution_count": 1,
   "metadata": {},
   "outputs": [],
   "source": [
    "from transformers import CTRLTokenizer, CTRLLMHeadModel\n",
    "import torch\n",
    "from transformers import pipeline"
   ]
  },
  {
   "cell_type": "code",
   "execution_count": 2,
   "metadata": {},
   "outputs": [],
   "source": [
    "tokenizer = CTRLTokenizer.from_pretrained('ctrl')\n",
    "model = CTRLLMHeadModel.from_pretrained('ctrl')"
   ]
  },
  {
   "cell_type": "code",
   "execution_count": 16,
   "metadata": {},
   "outputs": [],
   "source": [
    "seq = \"I enjoy walking with my cute dog\"\n",
    "inputs = tokenizer(seq)\n",
    "input_ids = torch.tensor([inputs[\"input_ids\"]],dtype=torch.long)\n",
    "# encode context the generation is conditioned on\n",
    "outputs = model.generate(\n",
    "    input_ids, \n",
    "    max_length=50, \n",
    "    num_beams=5, \n",
    "    no_repeat_ngram_size=2, \n",
    "    num_return_sequences=5, \n",
    "    early_stopping=True\n",
    ")\n"
   ]
  },
  {
   "cell_type": "code",
   "execution_count": 17,
   "metadata": {},
   "outputs": [],
   "source": [
    "outputs_id = outputs[0]"
   ]
  },
  {
   "cell_type": "code",
   "execution_count": 18,
   "metadata": {},
   "outputs": [
    {
     "name": "stdout",
     "output_type": "stream",
     "text": [
      "I\n",
      "e n j o y\n",
      "w a l k i n g\n",
      "w i t h\n",
      "m y\n",
      "c u t e\n",
      "d o g\n",
      "o u\n",
      "q u e l @ @\n",
      "o u\n",
      "o u\n",
      "u n\n",
      "p e t i t\n",
      "o u\n",
      "u n e\n",
      "p e t i t e\n",
      "f i l l e\n",
      "o u\n",
      "a v e c\n",
      "s a\n",
      "p e t i t e\n",
      "p e t i t e\n",
      "f i l @ @\n",
      "l e t t e\n",
      "o u\n",
      "s o n\n",
      "p e t i t\n",
      "a m i\n",
      "o u\n",
      "s e s\n",
      "a m i s,\n",
      "a m i s,\n",
      "a m i s\n",
      "o u\n",
      "?\n",
      "?\n",
      "\n",
      "\n",
      "o u\n",
      "b i e n\n",
      "b i e n\n",
      "b i e n,\n",
      "b i e n,\n",
      "o u\n",
      "b i e n,\n",
      "b i e n\n",
      "?\n",
      "!\n",
      "!\n",
      "\n"
     ]
    }
   ],
   "source": [
    "for i in range(len(outputs_id)):\n",
    "    print(tokenizer.decode(outputs_id[i].item()))"
   ]
  },
  {
   "cell_type": "code",
   "execution_count": null,
   "metadata": {},
   "outputs": [],
   "source": []
  }
 ],
 "metadata": {
  "kernelspec": {
   "display_name": "Python 3",
   "language": "python",
   "name": "python3"
  },
  "language_info": {
   "codemirror_mode": {
    "name": "ipython",
    "version": 3
   },
   "file_extension": ".py",
   "mimetype": "text/x-python",
   "name": "python",
   "nbconvert_exporter": "python",
   "pygments_lexer": "ipython3",
   "version": "3.7.5"
  }
 },
 "nbformat": 4,
 "nbformat_minor": 2
}
